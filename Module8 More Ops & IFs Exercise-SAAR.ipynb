{
 "cells": [
  {
   "cell_type": "markdown",
   "metadata": {},
   "source": [
    "### Exercise 1\n",
    "Ask for an exam score and store that number. If the number is greater than 100, then print out 'You cannot have an exam score higher than 100'. If the number doesn't exceeed 100 but is greater than or equal to 75, then print out 'You did great on your exam!'. Otherwise if they scored lower than 75, then print out 'You need to study harder'."
   ]
  },
  {
   "cell_type": "code",
   "execution_count": 5,
   "metadata": {},
   "outputs": [
    {
     "name": "stdin",
     "output_type": "stream",
     "text": [
      "Enter an exam score 134\n"
     ]
    },
    {
     "name": "stdout",
     "output_type": "stream",
     "text": [
      "You cannot have an exam score higher than 100.\n"
     ]
    }
   ],
   "source": [
    "exam_score = int(input(\"Enter an exam score\"))\n",
    "\n",
    "if exam_score > 100 :\n",
    "    print(\"You cannot have an exam score higher than 100.\")\n",
    "elif exam_score <= 100 and exam_score >= 75 :\n",
    "    print(\"You did great on your exam!\")\n",
    "else :\n",
    "    print(\"You need to study harder.\")\n",
    "    "
   ]
  },
  {
   "cell_type": "markdown",
   "metadata": {},
   "source": [
    "### Exercise 2\n",
    "Ask a user to enter two numbers and find their average. Then, print out the average and whether each number is below or above average. Determine if a function should be created or not.\n",
    "    "
   ]
  },
  {
   "cell_type": "code",
   "execution_count": 21,
   "metadata": {},
   "outputs": [
    {
     "name": "stdin",
     "output_type": "stream",
     "text": [
      "Enter a number 45\n",
      "Enter another number 99\n"
     ]
    },
    {
     "name": "stdout",
     "output_type": "stream",
     "text": [
      "***\n",
      "The first number (45) is -27.0 below the 72.0 average\n",
      "The second number (99) is 27.0 above the 72.0 average\n"
     ]
    }
   ],
   "source": [
    "num1 = int(input(\"Enter a number\"))\n",
    "num2 = int(input(\"Enter a second number\"))\n",
    "\n",
    "def find_avg(x,y) :\n",
    "    avg = (x + y)/2\n",
    "    if x > y :\n",
    "        print(f\"***\\nThe first number ({x}) is {x-avg} above the {avg} average\")\n",
    "        print(f\"The second number ({y}) is {x-avg} below the {avg} average\") \n",
    "    else :\n",
    "        print(f\"***\\nThe first number ({x}) is {x-avg} below the {avg} average\")\n",
    "        print(f\"The second number ({y}) is {y-avg} above the {avg} average\")\n",
    "    # return avg\n",
    "find_avg(num1,num2)    "
   ]
  },
  {
   "cell_type": "markdown",
   "metadata": {},
   "source": [
    "### Exercise 3\n",
    "Write a function to convert a test score to a grade where  \n",
    " - 90 - 100: A\n",
    " - 80 - 89:  B\n",
    " - 70 - 79:  C\n",
    " - 60 - 69:  D\n",
    " - < 60   :  F\n",
    " \n",
    "If a score is not between 0 and 100 then print out an error message. In the program, ask the user for a score and then call your function. "
   ]
  },
  {
   "cell_type": "code",
   "execution_count": 14,
   "metadata": {},
   "outputs": [
    {
     "name": "stdin",
     "output_type": "stream",
     "text": [
      "Enter your test score: 56\n"
     ]
    },
    {
     "name": "stdout",
     "output_type": "stream",
     "text": [
      "Grade = 'F'\n"
     ]
    }
   ],
   "source": [
    "test_score = int(input(\"Enter your test score:\"))\n",
    "\n",
    "def convert_ts(score) :\n",
    "    if score > 100 :\n",
    "        print(\"Error: Score entered is too high!\")\n",
    "    elif score >= 90 :\n",
    "        print(\"Grade = 'A'\")\n",
    "    elif score >= 80 :\n",
    "        print(\"Grade = 'B'\")\n",
    "    elif score >= 70 :\n",
    "        print(\"Grade = 'C'\")\n",
    "    elif score >= 60 :\n",
    "        print(\"Grade = 'D'\")\n",
    "    else :\n",
    "        print(\"Grade = 'F'\")\n",
    "convert_ts(test_score)"
   ]
  },
  {
   "cell_type": "markdown",
   "metadata": {},
   "source": [
    "### Exercise 4\n",
    "Convert following decimal number to a binary number by hand:\n",
    "\n",
    "    61 >      32 + 16 + 8 + 4 + 0 + 1 =  111101\n",
    "    15 >                8 + 4 + 2 + 1 =    1111\n",
    "    71 >  64 + 0 +  0 + 8 + 0 + 0 + 1 = 1001001\n",
    "    "
   ]
  },
  {
   "cell_type": "raw",
   "metadata": {},
   "source": []
  },
  {
   "cell_type": "markdown",
   "metadata": {},
   "source": [
    "### Exercise 5\n",
    "When a = 61 and b = 15, what is the result of following bitwise opertion? Use inline comments to show your result in a binary number. Find your answer by hand.\n",
    "\n",
    "    a & b\n",
    "    a | b\n",
    "    a ^ b\n",
    "    a >> 2\n",
    "    "
   ]
  },
  {
   "cell_type": "code",
   "execution_count": null,
   "metadata": {},
   "outputs": [],
   "source": [
    "a = 61\n",
    "b = 15"
   ]
  },
  {
   "cell_type": "code",
   "execution_count": 21,
   "metadata": {},
   "outputs": [
    {
     "name": "stdout",
     "output_type": "stream",
     "text": [
      "a = 111101\n",
      "b =   1111\n",
      "      ||||\n",
      "      1101  # a & b\n"
     ]
    }
   ],
   "source": [
    "print(f\"a = {bin(a)[2:]}\")\n",
    "print(f\"b =   {bin(b)[2:]}\")\n",
    "print(\"      ||||\")\n",
    "print(f\"      {bin(a & b)[2:]}  # AND a & b\")"
   ]
  },
  {
   "cell_type": "code",
   "execution_count": 26,
   "metadata": {},
   "outputs": [
    {
     "name": "stdout",
     "output_type": "stream",
     "text": [
      "a = 111101\n",
      "b =   1111\n",
      "    ||||||\n",
      "    111111  # a | b\n"
     ]
    }
   ],
   "source": [
    "print(f\"a = {bin(a)[2:]}\")\n",
    "print(f\"b =   {bin(b)[2:]}\")\n",
    "print(\"    ||||||\")\n",
    "print(f\"    {bin(a | b)[2:]}  # OR a | b\")"
   ]
  },
  {
   "cell_type": "code",
   "execution_count": 34,
   "metadata": {},
   "outputs": [
    {
     "name": "stdout",
     "output_type": "stream",
     "text": [
      "a = 111101\n",
      "b =   1111\n",
      "    ||||||\n",
      "    110010  # XOR a ^ b\n"
     ]
    }
   ],
   "source": [
    "print(f\"a = {bin(a)[2:]}\")\n",
    "print(f\"b =   {bin(b)[2:]}\")\n",
    "print(\"    ||||||\")\n",
    "print(f\"    {bin(a ^ b)[2:]}  # XOR a ^ b\")"
   ]
  },
  {
   "cell_type": "code",
   "execution_count": 35,
   "metadata": {},
   "outputs": [
    {
     "name": "stdout",
     "output_type": "stream",
     "text": [
      "a = 111101\n",
      "    ||||\n",
      "    1111  # Bitwise right shift a >> 2\n"
     ]
    }
   ],
   "source": [
    "print(f\"a = {bin(a)[2:]}\")\n",
    "print(\"    ||||\")\n",
    "print(f\"    {bin(a >> 2)[2:]}  # Bitwise right shift a >> 2\")"
   ]
  }
 ],
 "metadata": {
  "kernelspec": {
   "display_name": "Python 3 (ipykernel)",
   "language": "python",
   "name": "python3"
  },
  "language_info": {
   "codemirror_mode": {
    "name": "ipython",
    "version": 3
   },
   "file_extension": ".py",
   "mimetype": "text/x-python",
   "name": "python",
   "nbconvert_exporter": "python",
   "pygments_lexer": "ipython3",
   "version": "3.11.7"
  }
 },
 "nbformat": 4,
 "nbformat_minor": 4
}
